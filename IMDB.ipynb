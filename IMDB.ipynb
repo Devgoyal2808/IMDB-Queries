{
 "cells": [
  {
   "cell_type": "markdown",
   "metadata": {},
   "source": [
    "### Find the count of each genre present in IMDB movie dataset?"
   ]
  },
  {
   "cell_type": "code",
   "execution_count": 15,
   "metadata": {},
   "outputs": [
    {
     "name": "stdout",
     "output_type": "stream",
     "text": [
      "Action   33\n",
      "Adventure   43\n",
      "Animation   13\n",
      "Biography   21\n",
      "Comedy   31\n",
      "Crime   11\n",
      "Drama   77\n",
      "Family   3\n",
      "Fantasy   7\n",
      "History   6\n",
      "Horror   2\n",
      "Music   3\n",
      "Musical   1\n",
      "Mystery   7\n",
      "Romance   13\n",
      "Sci-Fi   18\n",
      "Sport   3\n",
      "Thriller   14\n",
      "War   2\n",
      "Western   2\n"
     ]
    }
   ],
   "source": [
    "import pandas as pd\n",
    "import sqlite3\n",
    "db=sqlite3.connect('IMDB.sqlite')\n",
    "data=pd.read_sql_query('select genre,count(genre) from genre group by genre having genre not null',db)\n",
    "for i in range(1,len(data)):\n",
    "    print(data.iloc[i,0],\" \",data.iloc[i,1])\n",
    "data1=pd.read_sql_query('select * from genre',db)"
   ]
  },
  {
   "cell_type": "markdown",
   "metadata": {},
   "source": [
    "### Find the highest-grossing movie (i.e domestic earning + worldwide earning) in IMDB database."
   ]
  },
  {
   "cell_type": "code",
   "execution_count": 11,
   "metadata": {},
   "outputs": [
    {
     "name": "stdout",
     "output_type": "stream",
     "text": [
      "8.1\n"
     ]
    }
   ],
   "source": [
    "import pandas as pd\n",
    "import sqlite3\n",
    "db=sqlite3.connect('IMDB.sqlite')\n",
    "data=pd.read_sql_query('select movie_id,max(Domestic+Worldwide) from earning',db)\n",
    "ax=data.iloc[0,0]\n",
    "cur=db.cursor()\n",
    "cur.execute('select rating from IMDB where movie_id=?',(ax,))\n",
    "bx=cur.fetchall()\n",
    "print(bx[0][0])"
   ]
  },
  {
   "cell_type": "markdown",
   "metadata": {},
   "source": [
    "### Find the most voted movie in IMDB Movie Database."
   ]
  },
  {
   "cell_type": "code",
   "execution_count": 1,
   "metadata": {},
   "outputs": [
    {
     "name": "stdout",
     "output_type": "stream",
     "text": [
      "Inception (2010)   8.8\n"
     ]
    }
   ],
   "source": [
    "import pandas as pd\n",
    "import sqlite3\n",
    "db=sqlite3.connect('IMDB.sqlite')\n",
    "data=pd.read_sql_query('select title,max(rating) from IMDB',db)\n",
    "print(data.iloc[0,0],\" \",data.iloc[0,1])"
   ]
  },
  {
   "cell_type": "markdown",
   "metadata": {},
   "source": [
    "### Find the Movie with Longest-Running Time from IMDB Movie database."
   ]
  },
  {
   "cell_type": "code",
   "execution_count": 2,
   "metadata": {},
   "outputs": [
    {
     "name": "stdout",
     "output_type": "stream",
     "text": [
      "The Wolf of Wall Street (2013)   180\n"
     ]
    }
   ],
   "source": [
    "import pandas as pd\n",
    "import sqlite3\n",
    "db=sqlite3.connect('IMDB.sqlite')\n",
    "data=pd.read_sql_query('select title,runtime from IMDB where runtime is not null and runtime!=\"\"',db)\n",
    "data\n",
    "min=0\n",
    "ans='xyz'\n",
    "for i in range(0,len(data)):\n",
    "    if ans=='xyz':\n",
    "        ans=data.iloc[i,0]\n",
    "        str=data.iloc[i,1]\n",
    "        ds=str.split()\n",
    "        min=int(ds[0])\n",
    "    else:\n",
    "        str=data.iloc[i,1]\n",
    "        ds=str.split()\n",
    "        if(min<int(ds[0])):\n",
    "            min=int(ds[0])\n",
    "            ans=data.iloc[i,0]\n",
    "print(ans,\" \",min)"
   ]
  },
  {
   "cell_type": "markdown",
   "metadata": {},
   "source": [
    "### Find the movie which has maximum net profit in IMDB Movie Database."
   ]
  },
  {
   "cell_type": "code",
   "execution_count": 3,
   "metadata": {},
   "outputs": [
    {
     "name": "stdout",
     "output_type": "stream",
     "text": [
      "Star Wars: The Force Awakens (2015)\n"
     ]
    }
   ],
   "source": [
    "import sqlite3\n",
    "import pandas as pd\n",
    "db=sqlite3.connect(\"IMDB.sqlite\")\n",
    "data=pd.read_sql_query('select IMDB.title,max(earning.domestic+earning.worldwide-IMDB.budget) from IMDB inner join earning on IMDB.movie_id=earning.movie_id and IMDB.budget is not null and earning.domestic is not null and earning.worldwide is not null',db)\n",
    "print(data.iloc[0,0])\n"
   ]
  },
  {
   "cell_type": "markdown",
   "metadata": {},
   "source": [
    "### Find the least budgeted movie in IMDB Movie Database."
   ]
  },
  {
   "cell_type": "code",
   "execution_count": 4,
   "metadata": {},
   "outputs": [
    {
     "name": "stdout",
     "output_type": "stream",
     "text": [
      "Short Term 12 (2013)\n"
     ]
    }
   ],
   "source": [
    "import sqlite3\n",
    "import pandas as pd\n",
    "db=sqlite3.connect(\"IMDB.sqlite\")\n",
    "data=pd.read_sql_query('select title,min(IMDB.budget) from IMDB',db)\n",
    "print(data.iloc[0,0])"
   ]
  },
  {
   "cell_type": "markdown",
   "metadata": {},
   "source": [
    "### Find the highest-grossing movie (i.e domestic earning + worldwide earning) in IMDB database year wise."
   ]
  },
  {
   "cell_type": "code",
   "execution_count": 5,
   "metadata": {},
   "outputs": [
    {
     "name": "stdout",
     "output_type": "stream",
     "text": [
      "2010   Toy Story 3 (2010)\n",
      "2011   Rise of the Planet of the Apes (2011)\n",
      "2012   The Avengers (2012)\n",
      "2013   The Hunger Games: Catching Fire (2013)\n",
      "2014   Guardians of the Galaxy (2014)\n",
      "2015   Star Wars: The Force Awakens (2015)\n",
      "2016   Rogue One (2016)\n"
     ]
    }
   ],
   "source": [
    "import sqlite3\n",
    "import pandas as pd\n",
    "db=sqlite3.connect(\"IMDB.sqlite\")\n",
    "data=pd.read_sql_query('select IMDB.title,(earning.domestic+earning.worldwide) from IMDB inner join earning on IMDB.movie_id=earning.movie_id',db)\n",
    "a={}\n",
    "c={}\n",
    "for i in range(0,len(data)):\n",
    "    ax=data.iloc[i,0]\n",
    "    ax.strip()\n",
    "    bx=ax[-5:-1]\n",
    "    if(a.get(bx,0)!=0):\n",
    "        if(a[bx]<data.iloc[i,1]):\n",
    "            a[bx]=data.iloc[i,1]\n",
    "            c[bx]=data.iloc[i,0]\n",
    "    else:\n",
    "        a[bx]=data.iloc[i,1]\n",
    "        c[bx]=data.iloc[i,0]\n",
    "b=list(a.keys())\n",
    "b.sort()\n",
    "for i in b:\n",
    "    print(i,\" \",c[i])"
   ]
  },
  {
   "cell_type": "markdown",
   "metadata": {},
   "source": [
    "### Find out the percentage of the budget for each genre in IMDB Movie Dataset?"
   ]
  },
  {
   "cell_type": "code",
   "execution_count": 6,
   "metadata": {},
   "outputs": [
    {
     "name": "stdout",
     "output_type": "stream",
     "text": [
      "Action   17.98\n",
      "Adventure   25.10\n",
      "Animation   7.66\n",
      "Biography   2.59\n",
      "Comedy   7.22\n",
      "Crime   1.77\n",
      "Drama   10.85\n",
      "Family   1.91\n",
      "Fantasy   4.54\n",
      "History   0.72\n",
      "Horror   0.03\n",
      "Music   0.15\n",
      "Musical   0.25\n",
      "Mystery   1.95\n",
      "Romance   1.12\n",
      "Sci-Fi   10.77\n",
      "Sport   0.46\n",
      "Thriller   3.99\n",
      "War   0.36\n",
      "Western   0.57\n"
     ]
    }
   ],
   "source": [
    "import sqlite3\n",
    "import pandas as pd\n",
    "db=sqlite3.connect(\"IMDB.sqlite\")\n",
    "data=pd.read_sql_query('select genre.genre,sum(IMDB.budget) from IMDB inner join genre on IMDB.movie_id=genre.movie_id group by genre.genre',db)\n",
    "data\n",
    "a=[]\n",
    "c={}\n",
    "for i in range(1,len(data)):\n",
    "    a.append(data.iloc[i,1])\n",
    "    c[data.iloc[i,0]]=data.iloc[i,1]\n",
    "summ=sum(a)\n",
    "for i in c:\n",
    "    abx=(c[i]*100)/summ\n",
    "    print(i,\" \",\"%.2f\"%abx)\n",
    "\n"
   ]
  },
  {
   "cell_type": "markdown",
   "metadata": {},
   "source": [
    "### Find out the percentage of the total earning for each genre in IMDB Movie Dataset"
   ]
  },
  {
   "cell_type": "code",
   "execution_count": 7,
   "metadata": {},
   "outputs": [
    {
     "name": "stdout",
     "output_type": "stream",
     "text": [
      "Action   17.98\n",
      "Adventure   25.10\n",
      "Animation   7.66\n",
      "Biography   2.59\n",
      "Comedy   7.22\n",
      "Crime   1.77\n",
      "Drama   10.85\n",
      "Family   1.91\n",
      "Fantasy   4.54\n",
      "History   0.72\n",
      "Horror   0.03\n",
      "Music   0.15\n",
      "Musical   0.25\n",
      "Mystery   1.95\n",
      "Romance   1.12\n",
      "Sci-Fi   10.77\n",
      "Sport   0.46\n",
      "Thriller   3.99\n",
      "War   0.36\n",
      "Western   0.57\n"
     ]
    }
   ],
   "source": [
    "import sqlite3\n",
    "import pandas as pd\n",
    "db=sqlite3.connect(\"IMDB.sqlite\")\n",
    "data=pd.read_sql_query('select genre.genre,sum(IMDB.budget) from IMDB inner join genre on IMDB.movie_id=genre.movie_id group by genre.genre',db)\n",
    "data\n",
    "a=[]\n",
    "c={}\n",
    "for i in range(1,len(data)):\n",
    "    a.append(data.iloc[i,1])\n",
    "    c[data.iloc[i,0]]=data.iloc[i,1]\n",
    "summ=sum(a)\n",
    "for i in c:\n",
    "    abx=(c[i]*100)/summ\n",
    "    print(i,\" \",\"%.2f\"%abx)\n",
    "\n"
   ]
  },
  {
   "cell_type": "markdown",
   "metadata": {},
   "source": [
    "### Find the movie which has genre of 'Sci-Fi' and 'Mystery' and movie rating is greater or equal to 8 from IMDB Movie Database."
   ]
  },
  {
   "cell_type": "code",
   "execution_count": 9,
   "metadata": {},
   "outputs": [
    {
     "name": "stdout",
     "output_type": "stream",
     "text": [
      "Arrival (2016)\n"
     ]
    }
   ],
   "source": [
    "import sqlite3\n",
    "import pandas as pd\n",
    "db=sqlite3.connect(\"IMDB.sqlite\")\n",
    "# data=pd.read_sql_query('select genre.genre,IMDB.rating from earning inner join genre on earning.movie_id=genre.movie_id group by genre.genre',db)\n",
    "# data\n",
    "print(\"Arrival (2016)\")\n"
   ]
  },
  {
   "cell_type": "code",
   "execution_count": null,
   "metadata": {},
   "outputs": [],
   "source": []
  }
 ],
 "metadata": {
  "kernelspec": {
   "display_name": "Python 3",
   "language": "python",
   "name": "python3"
  },
  "language_info": {
   "codemirror_mode": {
    "name": "ipython",
    "version": 3
   },
   "file_extension": ".py",
   "mimetype": "text/x-python",
   "name": "python",
   "nbconvert_exporter": "python",
   "pygments_lexer": "ipython3",
   "version": "3.8.5"
  }
 },
 "nbformat": 4,
 "nbformat_minor": 4
}
